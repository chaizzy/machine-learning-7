{
 "cells": [
  {
   "cell_type": "code",
   "execution_count": 1,
   "id": "9afb9e00-4c88-47de-a380-19aa4076540c",
   "metadata": {},
   "outputs": [],
   "source": [
    "# ANS 1 :\n",
    "# \"Elasticnet regression\"\n",
    "# Elastic Net regression is a linear regression model that combines both L1 (Lasso) and L2 (Ridge) regularization techniques. \n",
    "# It is designed to address some limitations of these individual regularization methods and \n",
    "# provide a more robust and flexible approach to regression analysis.\n",
    "\n",
    "# It differs from other regression techniques\n",
    "# where others regression are finding  \n",
    "# relationship between the independent variables (features) and the dependent variable (target) by estimating the coefficients \n",
    "# that minimize the sum of squared residuals.\n",
    "\n",
    "# Elasticnet Regression  combines the strengths of both Lasso and Ridge regularization. \n",
    "# It introduces a tuning parameter, denoted as α (alpha), that controls the balance between the L1 and L2 penalties."
   ]
  },
  {
   "cell_type": "code",
   "execution_count": 2,
   "id": "5d25addd-a998-40c4-b092-e9bce67002ca",
   "metadata": {},
   "outputs": [],
   "source": [
    "# ANS 2 :\n",
    "# There are two main parameters\n",
    "# 1.α (alpha): This parameter controls the balance between the L1 and L2 penalties.\n",
    "# 2.λ (lambda) or α (alpha): This parameter controls the overall strength of regularization.\n",
    "\n",
    "# we can choose the optimal values\n",
    "# 1.Grid Search: In this method, you define a grid of possible values for α and λ and evaluate the performance of the Elastic Net model \n",
    "#   using each combination of values. Performance metrics such as mean squared error (MSE) or cross-validated error are typically used\n",
    "# 2.Randomized Search: Instead of trying all possible combinations, randomized search selects a random subset of parameter combinations.\n",
    "# 3.Cross-Validation: Cross-validation is a widely used technique to estimate the performance of a model on unseen data. \n",
    "#   It involves splitting the data into training and validation sets, fitting the model on the training set, \n",
    "#   and evaluating its performance on the validation set"
   ]
  },
  {
   "cell_type": "code",
   "execution_count": 3,
   "id": "20542e38-808d-4455-912c-7993733e043b",
   "metadata": {},
   "outputs": [],
   "source": [
    "# ANS 3:\n",
    "# There are some advantages and disadvantages are there:\n",
    "\n",
    "# Advantages\n",
    "# 1.Handles multicollinearity: Elastic Net combines L1 (Lasso) and L2 (Ridge) regularization, \n",
    "#   allowing it to handle highly correlated features effectively\n",
    "# 2.Feature selection: Elastic Net has the ability to perform automatic feature selection by setting some coefficients to exactly zero. \n",
    "\n",
    "# Disadvantages\n",
    "# 1.Hyperparameter tuning: Elastic Net has two regularization parameters, α and λ (or α and λ, depending on the parameterization), \n",
    "#   which need to be tuned\n",
    "# 2.Less interpretable than Lasso: While Elastic Net can perform feature selection, \n",
    "#   it may not achieve the same level of interpretability as Lasso regression. "
   ]
  },
  {
   "cell_type": "code",
   "execution_count": 4,
   "id": "03f3ef2e-d094-4711-afdf-9d1e24d9537a",
   "metadata": {},
   "outputs": [],
   "source": [
    "# ANS 4 :\n",
    "# usecases of \"Elasticnet regression\"\n",
    "\n",
    "# 1.High-dimensional data: When dealing with datasets that have a large number of features compared to the number of observations, \n",
    "# such as in genomics, text mining, or financial data\n",
    "# 2.Multicollinearity: Elastic Net regression is well-suited for datasets with highly correlated features. \n",
    "#  It can effectively handle multicollinearity issues by appropriately shrinking coefficients and selecting relevant variables.\n",
    "# 3.Prediction and modeling: Elastic Net regression is widely used for predictive modeling tasks.\n",
    "# 4.Variable selection: Elastic Net regression's ability to perform automatic feature selection makes \n",
    "#   it useful in scenarios where identifying the most important predictors is crucial."
   ]
  },
  {
   "cell_type": "code",
   "execution_count": 5,
   "id": "6d776c7f-581c-4fb8-aedf-b5f72d0f0383",
   "metadata": {},
   "outputs": [],
   "source": [
    "# ANS 5 :\n",
    "# In Elastic Net regression, the coefficients represent the relationship between the independent variables (features) and the \n",
    "# dependent variable (target) in the regression model. However, due to the combined penalty of L1 (Lasso) and L2 (Ridge) regularization \n",
    "# in Elastic Net, the interpretation of the coefficients is slightly different compared to other regression models.\n",
    "\n",
    "# In Elastic Net regression, each coefficient is influenced by two factors: \n",
    "# the magnitude of the coefficient itself and the magnitude of the regularization term. \n",
    "# The regularization term helps to shrink the coefficients towards zero, encouraging sparsity in the model.\n",
    "\n",
    "# we can interpret the coefficients\n",
    "# 1.Sign of the coefficient: The sign (positive or negative) of a coefficient indicates the direction of the relationship \n",
    "#   between the predictor and the target variable\n",
    "# 2.Magnitude of the coefficient: The magnitude of the coefficient indicates the strength of the relationship \n",
    "#   between the predictor and the target variable."
   ]
  },
  {
   "cell_type": "code",
   "execution_count": 6,
   "id": "94dd7bd4-cecb-4ad8-98e8-18831c340621",
   "metadata": {},
   "outputs": [],
   "source": [
    "# ANS 6 :\n",
    "# we can handle missing values\n",
    "# 1.Delete rows with missing values: One straightforward approach is to remove rows that contain missing values. \n",
    "# 2.Imputation: Imputation involves filling in missing values with estimated values. There are various imputation techniques available, \n",
    "# such as mean imputation, median imputation , or regression imputation (predicting missing values using other variables in the dataset).\n",
    "# 3."
   ]
  },
  {
   "cell_type": "code",
   "execution_count": 7,
   "id": "11d4fef4-d5ed-407d-9c2e-187beb77b6ba",
   "metadata": {},
   "outputs": [],
   "source": [
    "# ANS 7:\n",
    "# we can use this  techniques for feature selction\n",
    "# 1.Standardize your data: Before applying Elastic Net regression, it's advisable to standardize your independent variables (predictors) \n",
    "#  by subtracting the mean and scaling to unit variance.\n",
    "# 2.Specify the Elastic Net hyperparameters: Elastic Net regression has two key hyperparameters: alpha and lambda. \n",
    "# Alpha controls the mix between L1 and L2 regularization, with a value of 1 representing Lasso (L1 regularization) \n",
    "# and a value of 0 representing Ridge (L2 regularization)\n",
    "# 3.Train the Elastic Net regression model: Fit the Elastic Net regression model to your training data using a chosen value \n",
    "#   for alpha and lambda.\n",
    "# 4.Perform feature selection: Identify the predictors with non-zero coefficients as selected features. \n",
    "# 5.Evaluate the model: After selecting the features, it is important to assess the performance of the model using appropriate \n",
    "#   evaluation metrics, such as mean squared error (MSE), R-squared, or cross-validation"
   ]
  },
  {
   "cell_type": "code",
   "execution_count": null,
   "id": "21fc8963-4e6a-456b-a816-65b159db70db",
   "metadata": {},
   "outputs": [],
   "source": [
    "# ANS 8:\n",
    "# first we have to import pickle\n",
    "# import pickle\n",
    "\n",
    "# then we have to dump the scaler and elastic into .pkl in write mode\n",
    "# pickle.dump(scaler,open('scaler.pkl','wb'))\n",
    "# pickle.dump(elastic,open('elastic.pkl','wb'))\n",
    "\n",
    "# unpickle\n",
    "# model_elastic = pickle.load(open('elastic.pkl','rb'))\n",
    "# model_elastic.predict(x_test_scaled)"
   ]
  },
  {
   "cell_type": "code",
   "execution_count": null,
   "id": "f05c6bf5-efb5-4c71-ae4d-29be28822844",
   "metadata": {},
   "outputs": [],
   "source": [
    "# ANS 9\n",
    "# Pickling \n",
    "# Python pickle module is used for serialising and de-serialising a Python object structure.\n",
    "# Any object in Python can be pickled so that it can be saved on disk. \n",
    "# What pickle does is that it “serialises” the object first before writing it to file. \n",
    "# Pickling is a way to convert a python object (list, dict, etc.) into a character stream. \n",
    "# The idea is that this character stream contains all the information necessary to reconstruct the object in another python script.\n",
    " "
   ]
  }
 ],
 "metadata": {
  "kernelspec": {
   "display_name": "Python 3 (ipykernel)",
   "language": "python",
   "name": "python3"
  },
  "language_info": {
   "codemirror_mode": {
    "name": "ipython",
    "version": 3
   },
   "file_extension": ".py",
   "mimetype": "text/x-python",
   "name": "python",
   "nbconvert_exporter": "python",
   "pygments_lexer": "ipython3",
   "version": "3.10.8"
  }
 },
 "nbformat": 4,
 "nbformat_minor": 5
}
